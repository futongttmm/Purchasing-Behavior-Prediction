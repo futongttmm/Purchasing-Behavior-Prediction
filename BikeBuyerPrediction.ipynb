{
 "cells": [
  {
   "cell_type": "code",
   "execution_count": 15,
   "metadata": {},
   "outputs": [],
   "source": [
    "import pandas as pd\n",
    "import matplotlib.pyplot as plt\n",
    "import seaborn as sns\n",
    "import numpy as np\n",
    "import numpy.random as nr\n",
    "import math\n",
    "from sklearn import preprocessing\n",
    "import sklearn.model_selection as ms\n",
    "from sklearn import linear_model\n",
    "import sklearn.metrics as sklm\n",
    "import sklearn.decomposition as skde\n",
    "\n",
    "from sklearn import feature_selection as fs\n",
    "\n",
    "from sklearn import metrics\n",
    "\n",
    "import sklearn.decomposition as skde\n",
    "\n",
    "from sklearn.ensemble import RandomForestClassifier\n",
    "\n",
    "from sklearn.ensemble import AdaBoostClassifier\n",
    "\n",
    "from sklearn.neural_network import MLPClassifier\n",
    "\n",
    "from sklearn import svm\n",
    "\n",
    "%matplotlib inline"
   ]
  },
  {
   "cell_type": "code",
   "execution_count": 16,
   "metadata": {},
   "outputs": [
    {
     "data": {
      "text/plain": [
       "CustomerID               int64\n",
       "Title                   object\n",
       "FirstName               object\n",
       "MiddleName              object\n",
       "LastName                object\n",
       "Suffix                  object\n",
       "AddressLine1            object\n",
       "AddressLine2            object\n",
       "City                    object\n",
       "StateProvinceName       object\n",
       "CountryRegionName       object\n",
       "PostalCode              object\n",
       "PhoneNumber             object\n",
       "BirthDate               object\n",
       "Education               object\n",
       "Occupation              object\n",
       "Gender                  object\n",
       "MaritalStatus           object\n",
       "HomeOwnerFlag            int64\n",
       "NumberCarsOwned          int64\n",
       "NumberChildrenAtHome     int64\n",
       "TotalChildren            int64\n",
       "YearlyIncome             int64\n",
       "BikeBuyer                int64\n",
       "dtype: object"
      ]
     },
     "execution_count": 16,
     "metadata": {},
     "output_type": "execute_result"
    }
   ],
   "source": [
    "## Load dataset\n",
    "AdvWorksCusts = pd.read_csv('./PreparedData/AdvWorksCusts_Prepared.csv')\n",
    "AW_BikeBuyer = pd.read_csv('./PreparedData/AW_BikeBuyer_Prepared.csv')\n",
    "AdvWorksCusts = AdvWorksCusts.merge(AW_BikeBuyer, on='CustomerID')\n",
    "AdvWorksCusts.dtypes"
   ]
  },
  {
   "cell_type": "code",
   "execution_count": 17,
   "metadata": {},
   "outputs": [
    {
     "data": {
      "text/html": [
       "<div>\n",
       "<style scoped>\n",
       "    .dataframe tbody tr th:only-of-type {\n",
       "        vertical-align: middle;\n",
       "    }\n",
       "\n",
       "    .dataframe tbody tr th {\n",
       "        vertical-align: top;\n",
       "    }\n",
       "\n",
       "    .dataframe thead th {\n",
       "        text-align: right;\n",
       "    }\n",
       "</style>\n",
       "<table border=\"1\" class=\"dataframe\">\n",
       "  <thead>\n",
       "    <tr style=\"text-align: right;\">\n",
       "      <th></th>\n",
       "      <th>CustomerID</th>\n",
       "    </tr>\n",
       "    <tr>\n",
       "      <th>BikeBuyer</th>\n",
       "      <th></th>\n",
       "    </tr>\n",
       "  </thead>\n",
       "  <tbody>\n",
       "    <tr>\n",
       "      <th>0</th>\n",
       "      <td>10953</td>\n",
       "    </tr>\n",
       "    <tr>\n",
       "      <th>1</th>\n",
       "      <td>5451</td>\n",
       "    </tr>\n",
       "  </tbody>\n",
       "</table>\n",
       "</div>"
      ],
      "text/plain": [
       "           CustomerID\n",
       "BikeBuyer            \n",
       "0               10953\n",
       "1                5451"
      ]
     },
     "execution_count": 17,
     "metadata": {},
     "output_type": "execute_result"
    }
   ],
   "source": [
    "# Examine the class imbalance in the data\n",
    "AdvWorksCusts[['CustomerID', 'BikeBuyer']].groupby('BikeBuyer').count()"
   ]
  },
  {
   "cell_type": "code",
   "execution_count": 18,
   "metadata": {},
   "outputs": [
    {
     "data": {
      "text/plain": [
       "(16404, 34)"
      ]
     },
     "execution_count": 18,
     "metadata": {},
     "output_type": "execute_result"
    }
   ],
   "source": [
    "Features = np.array(pd.read_csv('./PreparedData/BikeBuyerFeatures.csv'))\n",
    "Labels = np.array(pd.read_csv('./PreparedData/BikeBuyerLabels.csv'))\n",
    "Features_test = np.array(pd.read_csv('./PreparedData/Features_test.csv'))\n",
    "Features.shape"
   ]
  },
  {
   "cell_type": "code",
   "execution_count": 19,
   "metadata": {},
   "outputs": [],
   "source": [
    "## Evaluation Helpers\n",
    "def scoring_model(probs, threshold):\n",
    "    # compute the positive (1) predictions\n",
    "    return [1 if prob > threshold else 0 for prob in probs[:, 1]]\n",
    "\n",
    "def print_metrics(labels, scores):\n",
    "    conf = sklm.confusion_matrix(labels, scores)\n",
    "    metrics = sklm.precision_recall_fscore_support(labels, scores)\n",
    "    acc = sklm.accuracy_score(labels, scores)\n",
    "    print('                 Confusion matrix')\n",
    "    print('                 Score positive    Score negative')\n",
    "    print('Actual positive    %6d' % conf[0][0] + '             %5d' % conf[0][1])\n",
    "    print('Actual negative    %6d' % conf[1][0] + '             %5d' % conf[1][1])\n",
    "    print('')\n",
    "    print('Accuracy  %0.2f' % acc)\n",
    "    print(' ')\n",
    "    print('           Positive      Negative')\n",
    "    print('Num case   %6d' % metrics[3][0] + '        %6d' % metrics[3][1])\n",
    "    print('Precision  %6.2f' % metrics[0][0] + '        %6.2f' % metrics[0][1])\n",
    "    print('Recall     %6.2f' % metrics[1][0] + '        %6.2f' % metrics[1][1])\n",
    "    print('F1         %6.2f' % metrics[2][0] + '        %6.2f' % metrics[2][1]) \n",
    "    \n",
    "def plot_auc(labels, probs):\n",
    "    # Compute the false positive rate, true positive rate and threshold along with the AUC\n",
    "    fpr, tpr, threshold = sklm.roc_curve(labels, probs[:,1])\n",
    "    auc = sklm.auc(fpr, tpr)\n",
    "    # Plot the result\n",
    "    plt.title('Receiver Operating Characteristic')\n",
    "    plt.plot(fpr, tpr, color = 'orange', label = 'AUC = %0.2f' % auc)\n",
    "    plt.legend(loc = 'lower right')\n",
    "    plt.plot([0, 1], [0, 1],'r--')\n",
    "    plt.xlim([0, 1])\n",
    "    plt.ylim([0, 1])\n",
    "    plt.ylabel('True Positive Rate')\n",
    "    plt.xlabel('False Positive Rate')\n",
    "    plt.show()\n",
    "    \n",
    "def print_cv(clf, params_grid, param = 'C'):\n",
    "    params = [x for x in params_grid[param]]\n",
    "  \n",
    "    keys = list(clf.cv_results_.keys())  \n",
    "    # print(keys)\n",
    "    grid = np.array([clf.cv_results_[key] for key in keys[6:16]])\n",
    "    means = np.mean(grid, axis = 0)\n",
    "    stds = np.std(grid, axis = 0)\n",
    "    print('Performance metrics by parameter (AUC)')\n",
    "    print('Parameter   Mean performance   STD performance')\n",
    "    for x,y,z in zip(params, means, stds):\n",
    "        print('%8.2f        %6.5f            %6.5f' % (x,y,z))\n",
    "\n",
    "        \n",
    "## Nested cross validation\n",
    "def nested_cross_val(estimator, param_grid, features, labels, n_splits, scoring='roc_auc'):\n",
    "    inside = ms.KFold(n_splits=n_splits, shuffle=True)\n",
    "    outside = ms.KFold(n_splits=n_splits, shuffle=True)\n",
    "    \n",
    "    estimator = ms.GridSearchCV(estimator=estimator, param_grid=param_grid,\n",
    "                               cv=inside, scoring=scoring, return_train_score=True)\n",
    "    estimator.fit(features, labels)\n",
    "    \n",
    "    cv_estimate = ms.cross_val_score(estimator=estimator, X=features, y=labels, cv=outside)\n",
    "    \n",
    "    print('Mean performance metric = %4.3f' % np.mean(cv_estimate))\n",
    "    print('SDT of the metric       = %4.3f' % np.std(cv_estimate))\n",
    "    print('Outcomes by cv fold')\n",
    "    for i, x in enumerate(cv_estimate):\n",
    "        print('Fold %2d    %4.3f' % (i+1, x))\n",
    "        \n",
    "    return estimator, estimator.best_estimator_  \n",
    " \n",
    "    \n",
    "## Split dataset\n",
    "Features = np.array(pd.read_csv('./PreparedData/BikeBuyerFeatures.csv'))\n",
    "Labels = np.array(pd.read_csv('./PreparedData/BikeBuyerLabels.csv'))\n",
    "\n",
    "index = ms.train_test_split(range(Features.shape[0]), test_size=round(0.3*Features.shape[0]))\n",
    "X_train = Features[index[0], :]\n",
    "y_train = np.ravel(Labels[index[0]])\n",
    "X_test = Features[index[1], :]\n",
    "y_test = np.ravel(Labels[index[1]])"
   ]
  },
  {
   "cell_type": "markdown",
   "metadata": {},
   "source": [
    "## Deal with Data Imbalance"
   ]
  },
  {
   "cell_type": "code",
   "execution_count": 20,
   "metadata": {},
   "outputs": [
    {
     "name": "stdout",
     "output_type": "stream",
     "text": [
      "[3800 3800] (7600, 34) (7600,)\n"
     ]
    }
   ],
   "source": [
    "y_train = y_train.reshape(y_train.shape[0],)\n",
    "## Randomize the undersampling to create a data set with balanced cases\n",
    "y_train_1 = y_train[y_train == 1] # save these\n",
    "X_train_1 = X_train[y_train == 1, :]  # save these\n",
    "y_train_0 = y_train[y_train == 0] # undersample these\n",
    "X_train_0 = X_train[y_train == 0, :]  # undersmaple these\n",
    "# Undersampling\n",
    "index = nr.choice(X_train_0.shape[0], X_train_1.shape[0],\n",
    "                 replace=True)\n",
    "X_train = np.concatenate((X_train_1, X_train_0[index,:]),\n",
    "                              axis=0)\n",
    "y_train = np.concatenate((y_train_1, y_train_0[index,]), \n",
    "                            axis=0)\n",
    "print(np.bincount(y_train), X_train.shape, y_train.shape)"
   ]
  },
  {
   "cell_type": "code",
   "execution_count": 21,
   "metadata": {},
   "outputs": [
    {
     "name": "stdout",
     "output_type": "stream",
     "text": [
      "[5451 5451] (10902, 34) (10902,)\n"
     ]
    }
   ],
   "source": [
    "Labels = Labels.reshape(Labels.shape[0],)\n",
    "## Randomize the undersampling to create a data set with balanced cases\n",
    "temp_Labels_1 = Labels[Labels == 1] # save these\n",
    "temp_Features_1 = Features[Labels == 1, :]  # save these\n",
    "temp_Labels_0 = Labels[Labels == 0] # undersample these\n",
    "temp_Features_0 = Features[Labels == 0, :]  # undersmaple these\n",
    "# Undersampling\n",
    "index = nr.choice(temp_Features_0.shape[0], temp_Features_1.shape[0],\n",
    "                 replace=True)\n",
    "Features_balanced = np.concatenate((temp_Features_1, temp_Features_0[index,:]),\n",
    "                              axis=0)\n",
    "Labels_balanced = np.concatenate((temp_Labels_1, temp_Labels_0[index,]), \n",
    "                            axis=0)\n",
    "print(np.bincount(Labels_balanced), Features_balanced.shape, Labels_balanced.shape)"
   ]
  },
  {
   "cell_type": "markdown",
   "metadata": {},
   "source": [
    "## Feature Selection\n"
   ]
  },
  {
   "cell_type": "code",
   "execution_count": 22,
   "metadata": {},
   "outputs": [
    {
     "data": {
      "image/png": "[encoded data removed]",
      "text/plain": [
       "<Figure size 432x288 with 1 Axes>"
      ]
     },
     "metadata": {
      "needs_background": "light"
     },
     "output_type": "display_data"
    }
   ],
   "source": [
    "'''\n",
    "# Remove features with low variance (variance threshold set to .8 * (1 - .8)))\n",
    "sel = fs.VarianceThreshold(threshold=(.8 * (1 - .8)))\n",
    "Feature_balanced_reduced = sel.fit_transform(Features_balanced)\n",
    "Features_test_reduced = sel.fit_transform(Features_test)\n",
    "# Reshape the Label array\n",
    "Labels = Labels.reshape(Labels.shape[0],)\n",
    "# Set folds for nested cross validation\n",
    "feature_folds = ms.KFold(n_splits=10, shuffle = True) \n",
    "'''\n",
    "## Use PCA\n",
    "pca_mod = skde.PCA()\n",
    "pca_comps = pca_mod.fit(Features_balanced)\n",
    "# Plot the importance curve for each feature\n",
    "def plot_explained(mod):\n",
    "    comps = mod.explained_variance_ratio_\n",
    "    x = range(len(comps))\n",
    "    x = [y + 1 for y in x]          \n",
    "    plt.plot(x,comps)\n",
    "\n",
    "plot_explained(pca_comps)"
   ]
  },
  {
   "cell_type": "code",
   "execution_count": 23,
   "metadata": {},
   "outputs": [],
   "source": [
    "# Trains and fits a PCA model with 20 selected components \n",
    "pca_mod = skde.PCA(n_components = 20).fit(Features_balanced)\n",
    "\n",
    "X_train = pca_mod.transform(X_train)\n",
    "X_test = pca_mod.transform(X_test)\n",
    "\n",
    "Feature_balanced_reduced = pca_mod.transform(Features_balanced)\n",
    "Features_test_reduced = pca_mod.transform(Features_test)"
   ]
  },
  {
   "cell_type": "markdown",
   "metadata": {},
   "source": [
    "# Logistic Regression Model"
   ]
  },
  {
   "cell_type": "code",
   "execution_count": 24,
   "metadata": {},
   "outputs": [],
   "source": [
    "## Build the model to predict and store the result\n",
    "logistic_mod = linear_model.LogisticRegression(C=0.1, class_weight = {0:0.45, 1:0.55})\n",
    "'''\n",
    "# Perform feature selection by CV with high variance features only\n",
    "selector = fs.RFECV(estimator = logistic_mod, cv = feature_folds,\n",
    "                      scoring = 'roc_auc').fit(Features_reduced, Labels)\n",
    "Features_logistic = selector.transform(Features_reduced)\n",
    "Features_test_logistic = selector.transform(Features_test_reduced)\n",
    "print(Features_logistic.shape, Features_test_logistic.shape)\n",
    "'''\n",
    "logistic_mod.fit(Feature_balanced_reduced, Labels_balanced)\n",
    "probs = logistic_mod.predict_proba(Features_test_reduced)\n",
    "result = scoring_model(probs, threshold=0.5)\n",
    "pd.DataFrame(result).to_csv('./PredictionResults/BikeBuyerPrediction_LogisticRegression.csv', \n",
    "                            index = False, header = True)"
   ]
  },
  {
   "cell_type": "markdown",
   "metadata": {},
   "source": [
    "# Random Forest Model"
   ]
  },
  {
   "cell_type": "code",
   "execution_count": 25,
   "metadata": {},
   "outputs": [
    {
     "name": "stdout",
     "output_type": "stream",
     "text": [
      "Mean performance metric = 0.855\n",
      "SDT of the metric       = 0.008\n",
      "Outcomes by cv fold\n",
      "Fold  1    0.865\n",
      "Fold  2    0.842\n",
      "Fold  3    0.854\n",
      "Fold  4    0.853\n",
      "Fold  5    0.859\n",
      "Fold  6    0.863\n",
      "Fold  7    0.842\n",
      "Fold  8    0.860\n",
      "Fold  9    0.858\n",
      "Fold 10    0.858\n",
      "best estimator:\n",
      "5 10\n"
     ]
    }
   ],
   "source": [
    "## Find better parameters by using nested cross validation\n",
    "rf_clf = RandomForestClassifier()\n",
    "param_grid = {'max_features': [2, 3, 5, 10, 15], 'min_samples_leaf':[3, 5, 10, 20]}\n",
    "n_splits = 10\n",
    "rf_clf, best_estimator_ = nested_cross_val(rf_clf, param_grid, Feature_balanced_reduced, Labels_balanced, n_splits)\n",
    "print('best estimator:')\n",
    "print(best_estimator_.max_features, best_estimator_.min_samples_leaf)"
   ]
  },
  {
   "cell_type": "code",
   "execution_count": 26,
   "metadata": {},
   "outputs": [
    {
     "name": "stdout",
     "output_type": "stream",
     "text": [
      "                 Confusion matrix\n",
      "                 Score positive    Score negative\n",
      "Actual positive      2349               921\n",
      "Actual negative       373              1278\n",
      "\n",
      "Accuracy  0.74\n",
      " \n",
      "           Positive      Negative\n",
      "Num case     3270          1651\n",
      "Precision    0.86          0.58\n",
      "Recall       0.72          0.77\n",
      "F1           0.78          0.66\n"
     ]
    },
    {
     "data": {
      "image/png": "[encoded data removed]",
      "text/plain": [
       "<Figure size 432x288 with 1 Axes>"
      ]
     },
     "metadata": {
      "needs_background": "light"
     },
     "output_type": "display_data"
    }
   ],
   "source": [
    "## Use the best parameters to test the performance\n",
    "rf_mod = RandomForestClassifier(class_weight='balanced',\n",
    "                               max_features=best_estimator_.max_features,\n",
    "                               min_samples_leaf=best_estimator_.min_samples_leaf)\n",
    "rf_mod.fit(X_train, y_train)\n",
    "probs = rf_mod.predict_proba(X_test)\n",
    "print_metrics(y_test, scoring_model(probs, 0.5))\n",
    "plot_auc(y_test, probs)"
   ]
  },
  {
   "cell_type": "code",
   "execution_count": 27,
   "metadata": {},
   "outputs": [],
   "source": [
    "## Build the model to predict and store the result\n",
    "rf_mod = RandomForestClassifier(max_features = best_estimator_.max_features,\n",
    "                                min_samples_leaf = best_estimator_.min_samples_leaf)\n",
    "rf_mod.fit(Feature_balanced_reduced, Labels_balanced)\n",
    "probs = rf_mod.predict_proba(Features_test_reduced)\n",
    "result = scoring_model(probs, 0.5)\n",
    "pd.DataFrame(result).to_csv('./PredictionResults/BikeBuyerPrediction_RandomForest.csv', \n",
    "                            index = False, header = True)"
   ]
  },
  {
   "cell_type": "markdown",
   "metadata": {},
   "source": [
    "# AdaBoost Model"
   ]
  },
  {
   "cell_type": "code",
   "execution_count": 28,
   "metadata": {},
   "outputs": [
    {
     "name": "stdout",
     "output_type": "stream",
     "text": [
      "Mean performance metric = 0.835\n",
      "SDT of the metric       = 0.008\n",
      "Outcomes by cv fold\n",
      "Fold  1    0.839\n",
      "Fold  2    0.840\n",
      "Fold  3    0.822\n",
      "Fold  4    0.846\n",
      "Fold  5    0.830\n",
      "Fold  6    0.836\n",
      "Fold  7    0.827\n",
      "Fold  8    0.840\n",
      "Fold  9    0.843\n",
      "Fold 10    0.823\n",
      "best estimator:\n",
      "1\n"
     ]
    }
   ],
   "source": [
    "## Find better parameters by using nested cross validation\n",
    "ab_clf = AdaBoostClassifier()\n",
    "param_grid = {'learning_rate': [0.1, 1, 10]}\n",
    "n_splits = 10\n",
    "ab_clf, best_estimator_ = nested_cross_val(ab_clf, param_grid, Features, Labels, n_splits)\n",
    "print('best estimator:')\n",
    "print(best_estimator_.learning_rate)"
   ]
  },
  {
   "cell_type": "code",
   "execution_count": 29,
   "metadata": {},
   "outputs": [
    {
     "name": "stdout",
     "output_type": "stream",
     "text": [
      "                 Confusion matrix\n",
      "                 Score positive    Score negative\n",
      "Actual positive      2379               891\n",
      "Actual negative       457              1194\n",
      "\n",
      "Accuracy  0.73\n",
      " \n",
      "           Positive      Negative\n",
      "Num case     3270          1651\n",
      "Precision    0.84          0.57\n",
      "Recall       0.73          0.72\n",
      "F1           0.78          0.64\n"
     ]
    },
    {
     "data": {
      "image/png": "[encoded data removed]",
      "text/plain": [
       "<Figure size 432x288 with 1 Axes>"
      ]
     },
     "metadata": {
      "needs_background": "light"
     },
     "output_type": "display_data"
    }
   ],
   "source": [
    "## Use the best parameters to test the performance\n",
    "ab_mod = AdaBoostClassifier(learning_rate=best_estimator_.learning_rate)\n",
    "ab_mod.fit(X_train, y_train)\n",
    "probs = ab_mod.predict_proba(X_test)\n",
    "print_metrics(y_test, scoring_model(probs, 0.5))\n",
    "plot_auc(y_test, probs)"
   ]
  },
  {
   "cell_type": "code",
   "execution_count": 30,
   "metadata": {},
   "outputs": [],
   "source": [
    "## Build the model to predict and store the result\n",
    "ab_mod = AdaBoostClassifier(learning_rate=best_estimator_.learning_rate)\n",
    "ab_mod.fit(Feature_balanced_reduced, Labels_balanced)\n",
    "probs = rf_mod.predict_proba(Features_test_reduced)\n",
    "result = scoring_model(probs, 0.5)\n",
    "pd.DataFrame(result).to_csv('./PredictionResults/BikeBuyerPrediction_AdaBoost.csv', \n",
    "                            index = False, header = True)"
   ]
  },
  {
   "cell_type": "markdown",
   "metadata": {},
   "source": [
    "# Neural Network"
   ]
  },
  {
   "cell_type": "code",
   "execution_count": null,
   "metadata": {},
   "outputs": [],
   "source": [
    "## Build the model to predict and store the result\n",
    "nn_mod = MLPClassifier(beta_1=0.9, beta_2=0.99)\n",
    "nn_mod.fit(Feature_balanced_reduced, Labels_balanced)\n",
    "probs = nn_mod.predict_proba(Features_test_reduced)\n",
    "result = scoring_model(probs, 0.5)\n",
    "pd.DataFrame(result).to_csv('./PredictionResults/BikeBuyerPrediction_NN.csv', \n",
    "                            index = False, header = True)"
   ]
  },
  {
   "cell_type": "markdown",
   "metadata": {},
   "source": [
    "# SVM"
   ]
  },
  {
   "cell_type": "code",
   "execution_count": null,
   "metadata": {},
   "outputs": [],
   "source": [
    "## Build the model to predict and store the result\n",
    "svm_mod = svm.SVC(class_weight='balanced',\n",
    "                 C=100,\n",
    "                 gamma=0.02,\n",
    "                 probability=True)\n",
    "svm_mod.fit(Feature_balanced_reduced, Labels_balanced)\n",
    "probs = svm_mod.predict_proba(Features_test_reduced)\n",
    "result = scoring_model(probs, 0.5)\n",
    "pd.DataFrame(result).to_csv('./PredictionResults/BikeBuyerPrediction_SVM.csv', \n",
    "                            index = False, header = True)"
   ]
  },
  {
   "cell_type": "code",
   "execution_count": null,
   "metadata": {},
   "outputs": [],
   "source": []
  }
 ],
 "metadata": {
  "kernelspec": {
   "display_name": "Python 3",
   "language": "python",
   "name": "python3"
  },
  "language_info": {
   "codemirror_mode": {
    "name": "ipython",
    "version": 3
   },
   "file_extension": ".py",
   "mimetype": "text/x-python",
   "name": "python",
   "nbconvert_exporter": "python",
   "pygments_lexer": "ipython3",
   "version": "3.7.6"
  }
 },
 "nbformat": 4,
 "nbformat_minor": 2
}
