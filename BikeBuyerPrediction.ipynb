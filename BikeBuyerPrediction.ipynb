{
 "cells": [
  {
   "cell_type": "code",
   "execution_count": 55,
   "metadata": {},
   "outputs": [],
   "source": [
    "import pandas as pd\n",
    "import matplotlib.pyplot as plt\n",
    "import seaborn as sns\n",
    "import numpy as np\n",
    "import numpy.random as nr\n",
    "import math\n",
    "from sklearn import preprocessing\n",
    "import sklearn.model_selection as ms\n",
    "from sklearn import linear_model\n",
    "import sklearn.metrics as sklm\n",
    "import sklearn.decomposition as skde\n",
    "\n",
    "from sklearn import feature_selection as fs\n",
    "\n",
    "from sklearn import metrics\n",
    "\n",
    "import sklearn.decomposition as skde\n",
    "\n",
    "from sklearn.ensemble import RandomForestClassifier\n",
    "\n",
    "from sklearn.ensemble import AdaBoostClassifier\n",
    "\n",
    "from sklearn.neural_network import MLPClassifier\n",
    "\n",
    "from sklearn import svm\n",
    "\n",
    "%matplotlib inline"
   ]
  },
  {
   "cell_type": "code",
   "execution_count": 56,
   "metadata": {},
   "outputs": [
    {
     "data": {
      "text/plain": [
       "CustomerID               int64\n",
       "Title                   object\n",
       "FirstName               object\n",
       "MiddleName              object\n",
       "LastName                object\n",
       "Suffix                  object\n",
       "AddressLine1            object\n",
       "AddressLine2            object\n",
       "City                    object\n",
       "StateProvinceName       object\n",
       "CountryRegionName       object\n",
       "PostalCode              object\n",
       "PhoneNumber             object\n",
       "BirthDate               object\n",
       "Education               object\n",
       "Occupation              object\n",
       "Gender                  object\n",
       "MaritalStatus           object\n",
       "HomeOwnerFlag            int64\n",
       "NumberCarsOwned          int64\n",
       "NumberChildrenAtHome     int64\n",
       "TotalChildren            int64\n",
       "YearlyIncome             int64\n",
       "BikeBuyer                int64\n",
       "dtype: object"
      ]
     },
     "execution_count": 56,
     "metadata": {},
     "output_type": "execute_result"
    }
   ],
   "source": [
    "## Load dataset\n",
    "AdvWorksCusts = pd.read_csv('./PreparedData/AdvWorksCusts_Prepared.csv')\n",
    "AW_BikeBuyer = pd.read_csv('./PreparedData/AW_BikeBuyer_Prepared.csv')\n",
    "AdvWorksCusts = AdvWorksCusts.merge(AW_BikeBuyer, on='CustomerID')\n",
    "AdvWorksCusts.dtypes"
   ]
  },
  {
   "cell_type": "code",
   "execution_count": 57,
   "metadata": {},
   "outputs": [
    {
     "data": {
      "text/html": [
       "<div>\n",
       "<style scoped>\n",
       "    .dataframe tbody tr th:only-of-type {\n",
       "        vertical-align: middle;\n",
       "    }\n",
       "\n",
       "    .dataframe tbody tr th {\n",
       "        vertical-align: top;\n",
       "    }\n",
       "\n",
       "    .dataframe thead th {\n",
       "        text-align: right;\n",
       "    }\n",
       "</style>\n",
       "<table border=\"1\" class=\"dataframe\">\n",
       "  <thead>\n",
       "    <tr style=\"text-align: right;\">\n",
       "      <th></th>\n",
       "      <th>CustomerID</th>\n",
       "    </tr>\n",
       "    <tr>\n",
       "      <th>BikeBuyer</th>\n",
       "      <th></th>\n",
       "    </tr>\n",
       "  </thead>\n",
       "  <tbody>\n",
       "    <tr>\n",
       "      <th>0</th>\n",
       "      <td>10953</td>\n",
       "    </tr>\n",
       "    <tr>\n",
       "      <th>1</th>\n",
       "      <td>5451</td>\n",
       "    </tr>\n",
       "  </tbody>\n",
       "</table>\n",
       "</div>"
      ],
      "text/plain": [
       "           CustomerID\n",
       "BikeBuyer            \n",
       "0               10953\n",
       "1                5451"
      ]
     },
     "execution_count": 57,
     "metadata": {},
     "output_type": "execute_result"
    }
   ],
   "source": [
    "# Examine the class imbalance in the data\n",
    "AdvWorksCusts[['CustomerID', 'BikeBuyer']].groupby('BikeBuyer').count()"
   ]
  },
  {
   "cell_type": "code",
   "execution_count": 58,
   "metadata": {},
   "outputs": [
    {
     "data": {
      "text/plain": [
       "(16404, 34)"
      ]
     },
     "execution_count": 58,
     "metadata": {},
     "output_type": "execute_result"
    }
   ],
   "source": [
    "Features = np.array(pd.read_csv('./PreparedData/BikeBuyerFeatures.csv'))\n",
    "Labels = np.array(pd.read_csv('./PreparedData/BikeBuyerLabels.csv'))\n",
    "Features_test = np.array(pd.read_csv('./PreparedData/Features_test.csv'))\n",
    "Features.shape"
   ]
  },
  {
   "cell_type": "code",
   "execution_count": 59,
   "metadata": {},
   "outputs": [],
   "source": [
    "def scoring_model(probs, threshold):\n",
    "    # compute the positive (1) predictions\n",
    "    return [1 if prob > threshold else 0 for prob in probs[:, 1]]"
   ]
  },
  {
   "cell_type": "markdown",
   "metadata": {},
   "source": [
    "## Feature Selection\n"
   ]
  },
  {
   "cell_type": "code",
   "execution_count": 60,
   "metadata": {},
   "outputs": [],
   "source": [
    "# Remove features with low variance (variance threshold set to .8 * (1 - .8)))\n",
    "sel = fs.VarianceThreshold(threshold=(.8 * (1 - .8)))\n",
    "Features_reduced = sel.fit_transform(Features)\n",
    "Features_test_reduced = sel.fit_transform(Features_test)\n",
    "# Reshape the Label array\n",
    "Labels = Labels.reshape(Labels.shape[0],)\n",
    "# Set folds for nested cross validation\n",
    "feature_folds = ms.KFold(n_splits=10, shuffle = True) "
   ]
  },
  {
   "cell_type": "markdown",
   "metadata": {},
   "source": [
    "# Logistic Regression Model"
   ]
  },
  {
   "cell_type": "code",
   "execution_count": 61,
   "metadata": {},
   "outputs": [
    {
     "name": "stdout",
     "output_type": "stream",
     "text": [
      "(16404, 16) (500, 16)\n"
     ]
    }
   ],
   "source": [
    "logistic_mod = linear_model.LogisticRegression(C=0.1, class_weight = {0:0.45, 1:0.55})\n",
    "\n",
    "# Perform feature selection by CV with high variance features only\n",
    "selector = fs.RFECV(estimator = logistic_mod, cv = feature_folds,\n",
    "                      scoring = 'roc_auc').fit(Features_reduced, Labels)\n",
    "Features_logistic = selector.transform(Features_reduced)\n",
    "Features_test_logistic = selector.transform(Features_test_reduced)\n",
    "print(Features_logistic.shape, Features_test_logistic.shape)\n",
    "\n",
    "logistic_mod.fit(Features_logistic, Labels)\n",
    "probs = logistic_mod.predict_proba(Features_test_logistic)\n",
    "result = scoring_model(probs, threshold=0.5)"
   ]
  },
  {
   "cell_type": "code",
   "execution_count": 62,
   "metadata": {},
   "outputs": [],
   "source": [
    "pd.DataFrame(result).to_csv('./PredictionResults/BikeBuyerPrediction_LogisticRegression.csv', \n",
    "                            index = False, header = True)"
   ]
  },
  {
   "cell_type": "markdown",
   "metadata": {},
   "source": [
    "# Random Forest Model"
   ]
  },
  {
   "cell_type": "code",
   "execution_count": 63,
   "metadata": {},
   "outputs": [],
   "source": [
    "rf_mod = RandomForestClassifier(max_features = 3,\n",
    "                                min_samples_leaf = 20)\n",
    "rf_mod.fit(Features_reduced, Labels)\n",
    "probs = rf_mod.predict_proba(Features_test_reduced)\n",
    "result = scoring_model(probs, 0.5)\n",
    "pd.DataFrame(result).to_csv('./PredictionResults/BikeBuyerPrediction_RandomForest.csv', \n",
    "                            index = False, header = True)"
   ]
  },
  {
   "cell_type": "markdown",
   "metadata": {},
   "source": [
    "# AdaBoost Model"
   ]
  },
  {
   "cell_type": "code",
   "execution_count": 64,
   "metadata": {},
   "outputs": [],
   "source": [
    "ab_mod = AdaBoostClassifier(learning_rate=1)\n",
    "ab_mod.fit(Features_reduced, Labels)\n",
    "probs = rf_mod.predict_proba(Features_test_reduced)\n",
    "result = scoring_model(probs, 0.5)\n",
    "pd.DataFrame(result).to_csv('./PredictionResults/BikeBuyerPrediction_AdaBoost.csv', \n",
    "                            index = False, header = True)"
   ]
  },
  {
   "cell_type": "markdown",
   "metadata": {},
   "source": [
    "# Neural Network"
   ]
  },
  {
   "cell_type": "code",
   "execution_count": 65,
   "metadata": {},
   "outputs": [
    {
     "name": "stderr",
     "output_type": "stream",
     "text": [
      "D:\\Anaconda\\lib\\site-packages\\sklearn\\neural_network\\_multilayer_perceptron.py:571: ConvergenceWarning: Stochastic Optimizer: Maximum iterations (200) reached and the optimization hasn't converged yet.\n",
      "  % self.max_iter, ConvergenceWarning)\n"
     ]
    }
   ],
   "source": [
    "nn_mod = MLPClassifier(beta_1=0.9, beta_2=0.99)\n",
    "nn_mod.fit(Features_reduced, Labels)\n",
    "probs = nn_mod.predict_proba(Features_test_reduced)\n",
    "result = scoring_model(probs, 0.5)\n",
    "pd.DataFrame(result).to_csv('./PredictionResults/BikeBuyerPrediction_NN.csv', \n",
    "                            index = False, header = True)"
   ]
  },
  {
   "cell_type": "markdown",
   "metadata": {},
   "source": [
    "# SVM"
   ]
  },
  {
   "cell_type": "code",
   "execution_count": 66,
   "metadata": {},
   "outputs": [],
   "source": [
    "svm_mod = svm.SVC(class_weight='balanced',\n",
    "                 C=100,\n",
    "                 gamma=0.02,\n",
    "                 probability=True)\n",
    "svm_mod.fit(Features_reduced, Labels)\n",
    "probs = svm_mod.predict_proba(Features_test_reduced)\n",
    "result = scoring_model(probs, 0.5)\n",
    "pd.DataFrame(result).to_csv('./PredictionResults/BikeBuyerPrediction_SVM.csv', \n",
    "                            index = False, header = True)"
   ]
  },
  {
   "cell_type": "code",
   "execution_count": null,
   "metadata": {},
   "outputs": [],
   "source": []
  }
 ],
 "metadata": {
  "kernelspec": {
   "display_name": "Python 3",
   "language": "python",
   "name": "python3"
  },
  "language_info": {
   "codemirror_mode": {
    "name": "ipython",
    "version": 3
   },
   "file_extension": ".py",
   "mimetype": "text/x-python",
   "name": "python",
   "nbconvert_exporter": "python",
   "pygments_lexer": "ipython3",
   "version": "3.7.6"
  }
 },
 "nbformat": 4,
 "nbformat_minor": 2
}
